{
 "cells": [
  {
   "cell_type": "markdown",
   "id": "7d2186bb-a7f9-4b35-959a-2cd5b6ffa49b",
   "metadata": {},
   "source": [
    "## Connect to Snowflake "
   ]
  },
  {
   "cell_type": "code",
   "execution_count": 21,
   "id": "9bc6982a-6b88-41fe-9ec8-392569864402",
   "metadata": {},
   "outputs": [],
   "source": [
    "import os\n",
    "import json\n",
    "import snowflake.connector\n",
    "import pandas as pd\n"
   ]
  },
  {
   "cell_type": "markdown",
   "id": "d5e6dc23-0dfc-4db1-b1ea-48ab74eb2a35",
   "metadata": {},
   "source": [
    "## Load the Credentials into Environment Variables"
   ]
  },
  {
   "cell_type": "code",
   "execution_count": 10,
   "id": "db056e18-33eb-4b2c-977b-4d41d0fcde14",
   "metadata": {},
   "outputs": [
    {
     "name": "stdout",
     "output_type": "stream",
     "text": [
      "Environment variables set successfully.\n"
     ]
    }
   ],
   "source": [
    "with open('db_config.json') as config_file:\n",
    "    config = json.load(config_file)\n",
    "\n",
    "# Set environment variables\n",
    "os.environ['SNOWFLAKE_ACCOUNT'] = config['account']\n",
    "os.environ['SNOWFLAKE_USER'] = config['user']\n",
    "os.environ['SNOWFLAKE_PASSWORD'] = config['password']\n",
    "os.environ['SNOWFLAKE_WAREHOUSE'] = config['warehouse']\n",
    "os.environ['SNOWFLAKE_DATABASE'] = config['database']\n",
    "os.environ['SNOWFLAKE_SCHEMA'] = config['schema']\n",
    "\n",
    "print(\"Environment variables set successfully.\")"
   ]
  },
  {
   "cell_type": "markdown",
   "id": "a5063948-e986-4f49-acf2-32b5743b03e4",
   "metadata": {},
   "source": [
    "## Establish a Connection to Snowflake"
   ]
  },
  {
   "cell_type": "code",
   "execution_count": 11,
   "id": "4ae431e4-fb05-480d-930b-5dd67c204b28",
   "metadata": {},
   "outputs": [
    {
     "name": "stdout",
     "output_type": "stream",
     "text": [
      "Connection to Snowflake established successfully.\n"
     ]
    }
   ],
   "source": [
    "# Establish a connection to Snowflake using environment variables\n",
    "conn = snowflake.connector.connect(\n",
    "    account=os.getenv('SNOWFLAKE_ACCOUNT'),\n",
    "    user=os.getenv('SNOWFLAKE_USER'),\n",
    "    password=os.getenv('SNOWFLAKE_PASSWORD'),\n",
    "    warehouse=os.getenv('SNOWFLAKE_WAREHOUSE'),\n",
    "    database=os.getenv('SNOWFLAKE_DATABASE'),\n",
    "    schema=os.getenv('SNOWFLAKE_SCHEMA')\n",
    ")\n",
    "\n",
    "print(\"Connection to Snowflake established successfully.\")\n"
   ]
  },
  {
   "cell_type": "markdown",
   "id": "883a3253-13b6-4dc6-aa76-ac03ff53cc80",
   "metadata": {},
   "source": [
    "## Create a Function to Execute & Fect SQL Queries then Close the Conn"
   ]
  },
  {
   "cell_type": "code",
   "execution_count": 33,
   "id": "770f9447-1f5c-459d-8c22-e33b7b689ccc",
   "metadata": {},
   "outputs": [],
   "source": [
    "# Function to execute a query\n",
    "def execute_query(query):\n",
    "    try:\n",
    "        cursor = conn.cursor()\n",
    "        cursor.execute(query)\n",
    "        print(\"Query executed successfully.\")\n",
    "    except Exception as e:\n",
    "        print(f\"Error executing query: {e}\")\n",
    "    finally:\n",
    "        cursor.close()\n",
    "\n",
    "def fetch_records_as_df(query):\n",
    "    try:\n",
    "        cursor = conn.cursor()\n",
    "        cursor.execute(query)\n",
    "        # Fetching the column names\n",
    "        columns = [desc[0] for desc in cursor.description]\n",
    "        # Fetching all records\n",
    "        records = cursor.fetchall()\n",
    "        # Creating a DataFrame\n",
    "        df = pd.DataFrame(records, columns=columns)\n",
    "        return df\n",
    "    except Exception as e:\n",
    "        print(f\"Error fetching records: {e}\")\n",
    "    finally:\n",
    "        cursor.close()"
   ]
  },
  {
   "cell_type": "markdown",
   "id": "8b13a9ea-630e-437d-b34f-0230cf474cd1",
   "metadata": {},
   "source": [
    "## Create a Sample Table"
   ]
  },
  {
   "cell_type": "code",
   "execution_count": 14,
   "id": "8116bda1-fbf7-4082-9277-483ba2ff59a1",
   "metadata": {},
   "outputs": [
    {
     "name": "stdout",
     "output_type": "stream",
     "text": [
      "Query executed successfully.\n",
      "Query executed successfully.\n"
     ]
    }
   ],
   "source": [
    "create_schema_query = \"\"\"\n",
    "CREATE SCHEMA IF NOT EXISTS DEV_ANALYTICS;\n",
    "\"\"\"\n",
    "execute_query(create_schema_query)\n",
    "\n",
    "\n",
    "create_table_query = \"\"\"\n",
    "CREATE TABLE IF NOT EXISTS DEV_ANALYTICS.STUDENTS (\n",
    "    ID INT PRIMARY KEY,\n",
    "    NAME STRING,\n",
    "    AGE INT,\n",
    "    CITY STRING,\n",
    "    CREATED_AT TIMESTAMP DEFAULT CURRENT_TIMESTAMP\n",
    ");\n",
    "\"\"\"\n",
    "execute_query(create_table_query)\n"
   ]
  },
  {
   "cell_type": "markdown",
   "id": "9de07392-79f2-4b01-afcf-c38dcdb83d73",
   "metadata": {},
   "source": [
    "## Insert records into the STUDENTS table"
   ]
  },
  {
   "cell_type": "code",
   "execution_count": 15,
   "id": "2cc23038-c2ea-4790-b04c-53582d0ef4fe",
   "metadata": {},
   "outputs": [
    {
     "name": "stdout",
     "output_type": "stream",
     "text": [
      "Query executed successfully.\n"
     ]
    }
   ],
   "source": [
    "\n",
    "insert_records_query = \"\"\"\n",
    "INSERT INTO DEV_ANALYTICS.STUDENTS (ID, NAME, AGE, CITY) VALUES\n",
    "    (1, 'Alex', 20, 'Coimbatore'),\n",
    "    (2, 'Bob', 22, 'Bangalore'),\n",
    "    (3, 'Charlie', 23, 'Chennai'),\n",
    "    (4, 'Daniel', 21, 'Hydrabad');\n",
    "\"\"\"\n",
    "execute_query(insert_records_query)\n"
   ]
  },
  {
   "cell_type": "code",
   "execution_count": 34,
   "id": "75314bbb-f0ad-4495-bbe2-9404cbfdcfcb",
   "metadata": {},
   "outputs": [
    {
     "data": {
      "text/html": [
       "<div>\n",
       "<style scoped>\n",
       "    .dataframe tbody tr th:only-of-type {\n",
       "        vertical-align: middle;\n",
       "    }\n",
       "\n",
       "    .dataframe tbody tr th {\n",
       "        vertical-align: top;\n",
       "    }\n",
       "\n",
       "    .dataframe thead th {\n",
       "        text-align: right;\n",
       "    }\n",
       "</style>\n",
       "<table border=\"1\" class=\"dataframe\">\n",
       "  <thead>\n",
       "    <tr style=\"text-align: right;\">\n",
       "      <th></th>\n",
       "      <th>ID</th>\n",
       "      <th>NAME</th>\n",
       "      <th>AGE</th>\n",
       "      <th>CITY</th>\n",
       "      <th>CREATED_AT</th>\n",
       "    </tr>\n",
       "  </thead>\n",
       "  <tbody>\n",
       "    <tr>\n",
       "      <th>0</th>\n",
       "      <td>1</td>\n",
       "      <td>Alex</td>\n",
       "      <td>20</td>\n",
       "      <td>Coimbatore</td>\n",
       "      <td>2024-11-05 00:21:53.010</td>\n",
       "    </tr>\n",
       "    <tr>\n",
       "      <th>1</th>\n",
       "      <td>2</td>\n",
       "      <td>Bob</td>\n",
       "      <td>22</td>\n",
       "      <td>Bangalore</td>\n",
       "      <td>2024-11-05 00:21:53.010</td>\n",
       "    </tr>\n",
       "    <tr>\n",
       "      <th>2</th>\n",
       "      <td>3</td>\n",
       "      <td>Charlie</td>\n",
       "      <td>23</td>\n",
       "      <td>Chennai</td>\n",
       "      <td>2024-11-05 00:21:53.010</td>\n",
       "    </tr>\n",
       "    <tr>\n",
       "      <th>3</th>\n",
       "      <td>4</td>\n",
       "      <td>Daniel</td>\n",
       "      <td>21</td>\n",
       "      <td>Hydrabad</td>\n",
       "      <td>2024-11-05 00:21:53.010</td>\n",
       "    </tr>\n",
       "  </tbody>\n",
       "</table>\n",
       "</div>"
      ],
      "text/plain": [
       "   ID     NAME  AGE        CITY              CREATED_AT\n",
       "0   1     Alex   20  Coimbatore 2024-11-05 00:21:53.010\n",
       "1   2      Bob   22   Bangalore 2024-11-05 00:21:53.010\n",
       "2   3  Charlie   23     Chennai 2024-11-05 00:21:53.010\n",
       "3   4   Daniel   21    Hydrabad 2024-11-05 00:21:53.010"
      ]
     },
     "execution_count": 34,
     "metadata": {},
     "output_type": "execute_result"
    }
   ],
   "source": [
    "select_query = \"\"\"\n",
    "SELECT * FROM DEV_ANALYTICS.STUDENTS;\n",
    "\"\"\"\n",
    "\n",
    "students_df = fetch_records_as_df(select_query)\n",
    "students_df"
   ]
  },
  {
   "cell_type": "markdown",
   "id": "bbe70e5b-185d-484d-a2c5-f2fa5d29eb06",
   "metadata": {},
   "source": [
    " "
   ]
  }
 ],
 "metadata": {
  "kernelspec": {
   "display_name": "Python 3 (ipykernel)",
   "language": "python",
   "name": "python3"
  },
  "language_info": {
   "codemirror_mode": {
    "name": "ipython",
    "version": 3
   },
   "file_extension": ".py",
   "mimetype": "text/x-python",
   "name": "python",
   "nbconvert_exporter": "python",
   "pygments_lexer": "ipython3",
   "version": "3.10.11"
  }
 },
 "nbformat": 4,
 "nbformat_minor": 5
}
